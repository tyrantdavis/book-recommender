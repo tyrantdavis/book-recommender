{
 "cells": [
  {
   "cell_type": "code",
   "execution_count": 1,
   "id": "13f5c508-8f46-4f93-8e8f-f2f182265f27",
   "metadata": {},
   "outputs": [
    {
     "name": "stdout",
     "output_type": "stream",
     "text": [
      "Libraries used in this project:\n",
      "- Pandas 2.0.3\n",
      "- Surprise 1.1.4\n"
     ]
    }
   ],
   "source": [
    "import warnings  # Suppress warnings\n",
    "from time import time  # Calculate training time.\n",
    "\n",
    "import pandas as pd\n",
    "import surprise\n",
    "from surprise import Reader\n",
    "\n",
    "warnings.filterwarnings(\"ignore\")\n",
    "\n",
    "# Summarize software libraries used.\n",
    "print(\"Libraries used in this project:\")\n",
    "print(\"- Pandas {}\".format(pd.__version__))\n",
    "print(\"- Surprise {}\".format(surprise.__version__))"
   ]
  }
 ],
 "metadata": {
  "kernelspec": {
   "display_name": "Python 3 (ipykernel)",
   "language": "python",
   "name": "python3"
  },
  "language_info": {
   "codemirror_mode": {
    "name": "ipython",
    "version": 3
   },
   "file_extension": ".py",
   "mimetype": "text/x-python",
   "name": "python",
   "nbconvert_exporter": "python",
   "pygments_lexer": "ipython3",
   "version": "3.8.18"
  }
 },
 "nbformat": 4,
 "nbformat_minor": 5
}
