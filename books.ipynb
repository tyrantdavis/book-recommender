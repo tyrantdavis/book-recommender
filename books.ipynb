{
 "cells": [
  {
   "cell_type": "markdown",
   "id": "b4a7fbc6-213e-43de-b287-b478e56c791e",
   "metadata": {},
   "source": [
    "# Import Packages"
   ]
  },
  {
   "cell_type": "code",
   "execution_count": 1,
   "id": "13f5c508-8f46-4f93-8e8f-f2f182265f27",
   "metadata": {},
   "outputs": [
    {
     "name": "stdout",
     "output_type": "stream",
     "text": [
      "Libraries used in this project:\n",
      "- Pandas 2.0.3\n",
      "- Surprise 1.1.4\n"
     ]
    }
   ],
   "source": [
    "import warnings  # Suppress warnings\n",
    "from time import time  # Calculate training time.\n",
    "\n",
    "import matplotlib\n",
    "import pandas as pd\n",
    "import surprise\n",
    "from surprise import Dataset, Reader\n",
    "from surprise.model_selection import train_test_split\n",
    "\n",
    "warnings.filterwarnings(\"ignore\")\n",
    "\n",
    "# Summarize software libraries used.\n",
    "print(\"Libraries used in this project:\")\n",
    "print(\"- Pandas {}\".format(pd.__version__))\n",
    "print(\"- Surprise {}\".format(surprise.__version__))"
   ]
  },
  {
   "cell_type": "markdown",
   "id": "f5375a9f-d8e7-449a-877c-4c8463f3819b",
   "metadata": {},
   "source": [
    "# Load the Dataset\n",
    "\n",
    "The first step is to load the data and transform the array into a pandas data frame."
   ]
  },
  {
   "cell_type": "code",
   "execution_count": 2,
   "id": "b6be4628-7a93-4cf5-8c41-9f4fb7accc91",
   "metadata": {},
   "outputs": [
    {
     "data": {
      "text/html": [
       "<div>\n",
       "<style scoped>\n",
       "    .dataframe tbody tr th:only-of-type {\n",
       "        vertical-align: middle;\n",
       "    }\n",
       "\n",
       "    .dataframe tbody tr th {\n",
       "        vertical-align: top;\n",
       "    }\n",
       "\n",
       "    .dataframe thead th {\n",
       "        text-align: right;\n",
       "    }\n",
       "</style>\n",
       "<table border=\"1\" class=\"dataframe\">\n",
       "  <thead>\n",
       "    <tr style=\"text-align: right;\">\n",
       "      <th></th>\n",
       "      <th>user_id</th>\n",
       "      <th>book_id</th>\n",
       "      <th>review_id</th>\n",
       "      <th>rating</th>\n",
       "      <th>review_text</th>\n",
       "      <th>date_added</th>\n",
       "      <th>date_updated</th>\n",
       "      <th>read_at</th>\n",
       "      <th>started_at</th>\n",
       "      <th>n_votes</th>\n",
       "      <th>n_comments</th>\n",
       "    </tr>\n",
       "  </thead>\n",
       "  <tbody>\n",
       "    <tr>\n",
       "      <th>0</th>\n",
       "      <td>d089c9b670c0b0b339353aebbace46a1</td>\n",
       "      <td>7686667</td>\n",
       "      <td>3337e0e75701f7f682de11638ccdc60c</td>\n",
       "      <td>3</td>\n",
       "      <td>Like Matched, this book felt like it was echoi...</td>\n",
       "      <td>Fri Apr 29 14:45:32 -0700 2011</td>\n",
       "      <td>Mon Feb 02 12:57:57 -0800 2015</td>\n",
       "      <td>Sat Jun 18 00:00:00 -0700 2011</td>\n",
       "      <td>Thu May 19 00:00:00 -0700 2011</td>\n",
       "      <td>0</td>\n",
       "      <td>0</td>\n",
       "    </tr>\n",
       "    <tr>\n",
       "      <th>1</th>\n",
       "      <td>6dcb2c16e12a41ae0c6c38e9d46f3292</td>\n",
       "      <td>18073066</td>\n",
       "      <td>7201aa3c1161f2bad81258b6d4686c16</td>\n",
       "      <td>5</td>\n",
       "      <td>WOW again! 4,5 Stars \\n So i wont forget to me...</td>\n",
       "      <td>Thu Aug 01 02:15:18 -0700 2013</td>\n",
       "      <td>Mon Nov 18 14:49:26 -0800 2013</td>\n",
       "      <td>Mon Aug 19 00:00:00 -0700 2013</td>\n",
       "      <td>Mon Aug 12 00:00:00 -0700 2013</td>\n",
       "      <td>16</td>\n",
       "      <td>14</td>\n",
       "    </tr>\n",
       "    <tr>\n",
       "      <th>2</th>\n",
       "      <td>244e0ce681148a7586d7746676093ce9</td>\n",
       "      <td>13610986</td>\n",
       "      <td>07a203f87bfe1b65ff58774667f6f80d</td>\n",
       "      <td>5</td>\n",
       "      <td>The second novel was hot &amp; heavy. Not only in ...</td>\n",
       "      <td>Sun Nov 23 18:17:50 -0800 2014</td>\n",
       "      <td>Sat May 16 20:34:19 -0700 2015</td>\n",
       "      <td>Fri Dec 19 00:00:00 -0800 2014</td>\n",
       "      <td>Sun Nov 23 00:00:00 -0800 2014</td>\n",
       "      <td>0</td>\n",
       "      <td>0</td>\n",
       "    </tr>\n",
       "    <tr>\n",
       "      <th>3</th>\n",
       "      <td>73fcc25ff29f8b73b3a7578aec846394</td>\n",
       "      <td>27274343</td>\n",
       "      <td>8be2d87b07098c16f9742020ec459383</td>\n",
       "      <td>1</td>\n",
       "      <td>What a maddening waste of time. And I unfortun...</td>\n",
       "      <td>Mon Oct 31 08:29:06 -0700 2016</td>\n",
       "      <td>Wed Apr 26 16:06:28 -0700 2017</td>\n",
       "      <td>Wed Apr 26 16:06:28 -0700 2017</td>\n",
       "      <td>Sun Apr 23 00:00:00 -0700 2017</td>\n",
       "      <td>0</td>\n",
       "      <td>1</td>\n",
       "    </tr>\n",
       "    <tr>\n",
       "      <th>4</th>\n",
       "      <td>f8880e158a163388a990b64fec7df300</td>\n",
       "      <td>11614718</td>\n",
       "      <td>a29c4ba03e33ad073a414ac775266c5f</td>\n",
       "      <td>4</td>\n",
       "      <td>4.5 stars! \\n This was an awesome read! \\n So ...</td>\n",
       "      <td>Tue Mar 26 10:55:30 -0700 2013</td>\n",
       "      <td>Mon Sep 08 09:57:05 -0700 2014</td>\n",
       "      <td>Sun Apr 20 09:26:41 -0700 2014</td>\n",
       "      <td>Fri Apr 18 00:00:00 -0700 2014</td>\n",
       "      <td>0</td>\n",
       "      <td>0</td>\n",
       "    </tr>\n",
       "  </tbody>\n",
       "</table>\n",
       "</div>"
      ],
      "text/plain": [
       "                            user_id   book_id  \\\n",
       "0  d089c9b670c0b0b339353aebbace46a1   7686667   \n",
       "1  6dcb2c16e12a41ae0c6c38e9d46f3292  18073066   \n",
       "2  244e0ce681148a7586d7746676093ce9  13610986   \n",
       "3  73fcc25ff29f8b73b3a7578aec846394  27274343   \n",
       "4  f8880e158a163388a990b64fec7df300  11614718   \n",
       "\n",
       "                          review_id  rating  \\\n",
       "0  3337e0e75701f7f682de11638ccdc60c       3   \n",
       "1  7201aa3c1161f2bad81258b6d4686c16       5   \n",
       "2  07a203f87bfe1b65ff58774667f6f80d       5   \n",
       "3  8be2d87b07098c16f9742020ec459383       1   \n",
       "4  a29c4ba03e33ad073a414ac775266c5f       4   \n",
       "\n",
       "                                         review_text  \\\n",
       "0  Like Matched, this book felt like it was echoi...   \n",
       "1  WOW again! 4,5 Stars \\n So i wont forget to me...   \n",
       "2  The second novel was hot & heavy. Not only in ...   \n",
       "3  What a maddening waste of time. And I unfortun...   \n",
       "4  4.5 stars! \\n This was an awesome read! \\n So ...   \n",
       "\n",
       "                       date_added                    date_updated  \\\n",
       "0  Fri Apr 29 14:45:32 -0700 2011  Mon Feb 02 12:57:57 -0800 2015   \n",
       "1  Thu Aug 01 02:15:18 -0700 2013  Mon Nov 18 14:49:26 -0800 2013   \n",
       "2  Sun Nov 23 18:17:50 -0800 2014  Sat May 16 20:34:19 -0700 2015   \n",
       "3  Mon Oct 31 08:29:06 -0700 2016  Wed Apr 26 16:06:28 -0700 2017   \n",
       "4  Tue Mar 26 10:55:30 -0700 2013  Mon Sep 08 09:57:05 -0700 2014   \n",
       "\n",
       "                          read_at                      started_at  n_votes  \\\n",
       "0  Sat Jun 18 00:00:00 -0700 2011  Thu May 19 00:00:00 -0700 2011        0   \n",
       "1  Mon Aug 19 00:00:00 -0700 2013  Mon Aug 12 00:00:00 -0700 2013       16   \n",
       "2  Fri Dec 19 00:00:00 -0800 2014  Sun Nov 23 00:00:00 -0800 2014        0   \n",
       "3  Wed Apr 26 16:06:28 -0700 2017  Sun Apr 23 00:00:00 -0700 2017        0   \n",
       "4  Sun Apr 20 09:26:41 -0700 2014  Fri Apr 18 00:00:00 -0700 2014        0   \n",
       "\n",
       "   n_comments  \n",
       "0           0  \n",
       "1          14  \n",
       "2           0  \n",
       "3           1  \n",
       "4           0  "
      ]
     },
     "execution_count": 2,
     "metadata": {},
     "output_type": "execute_result"
    }
   ],
   "source": [
    "book_ratings = pd.read_csv(\n",
    "    \"https://raw.githubusercontent.com/tyrantdavis/datasets/refs/heads/main/goodreads_ratings.csv\"\n",
    ")\n",
    "\n",
    "book_ratings.head()"
   ]
  },
  {
   "cell_type": "markdown",
   "id": "fba27c0b-96e5-444d-98bb-36121e855400",
   "metadata": {},
   "source": [
    "# Examine the Dataset\n",
    "\n",
    "Examine the data types and check for any missing entries."
   ]
  },
  {
   "cell_type": "code",
   "execution_count": 3,
   "id": "33bb68d6-c976-4650-ac68-8f3412fbf13b",
   "metadata": {},
   "outputs": [
    {
     "name": "stdout",
     "output_type": "stream",
     "text": [
      "<class 'pandas.core.frame.DataFrame'>\n",
      "RangeIndex: 3500 entries, 0 to 3499\n",
      "Data columns (total 11 columns):\n",
      " #   Column        Non-Null Count  Dtype \n",
      "---  ------        --------------  ----- \n",
      " 0   user_id       3500 non-null   object\n",
      " 1   book_id       3500 non-null   int64 \n",
      " 2   review_id     3500 non-null   object\n",
      " 3   rating        3500 non-null   int64 \n",
      " 4   review_text   3500 non-null   object\n",
      " 5   date_added    3500 non-null   object\n",
      " 6   date_updated  3500 non-null   object\n",
      " 7   read_at       3167 non-null   object\n",
      " 8   started_at    2395 non-null   object\n",
      " 9   n_votes       3500 non-null   int64 \n",
      " 10  n_comments    3500 non-null   int64 \n",
      "dtypes: int64(4), object(7)\n",
      "memory usage: 300.9+ KB\n"
     ]
    }
   ],
   "source": [
    "book_ratings.info()"
   ]
  },
  {
   "cell_type": "code",
   "execution_count": 4,
   "id": "1f24b922-4624-43de-946e-c4fb8f3782b4",
   "metadata": {},
   "outputs": [
    {
     "data": {
      "text/plain": [
       "True"
      ]
     },
     "execution_count": 4,
     "metadata": {},
     "output_type": "execute_result"
    }
   ],
   "source": [
    "book_ratings.isna().any(axis=None)"
   ]
  },
  {
   "cell_type": "code",
   "execution_count": 5,
   "id": "de90baa7-31e4-44e7-bdef-ac7c7839be5f",
   "metadata": {},
   "outputs": [
    {
     "data": {
      "text/html": [
       "<div>\n",
       "<style scoped>\n",
       "    .dataframe tbody tr th:only-of-type {\n",
       "        vertical-align: middle;\n",
       "    }\n",
       "\n",
       "    .dataframe tbody tr th {\n",
       "        vertical-align: top;\n",
       "    }\n",
       "\n",
       "    .dataframe thead th {\n",
       "        text-align: right;\n",
       "    }\n",
       "</style>\n",
       "<table border=\"1\" class=\"dataframe\">\n",
       "  <thead>\n",
       "    <tr style=\"text-align: right;\">\n",
       "      <th></th>\n",
       "      <th>user_id</th>\n",
       "      <th>book_id</th>\n",
       "      <th>review_id</th>\n",
       "      <th>rating</th>\n",
       "      <th>review_text</th>\n",
       "      <th>date_added</th>\n",
       "      <th>date_updated</th>\n",
       "      <th>read_at</th>\n",
       "      <th>started_at</th>\n",
       "      <th>n_votes</th>\n",
       "      <th>n_comments</th>\n",
       "    </tr>\n",
       "  </thead>\n",
       "  <tbody>\n",
       "    <tr>\n",
       "      <th>0</th>\n",
       "      <td>False</td>\n",
       "      <td>False</td>\n",
       "      <td>False</td>\n",
       "      <td>False</td>\n",
       "      <td>False</td>\n",
       "      <td>False</td>\n",
       "      <td>False</td>\n",
       "      <td>False</td>\n",
       "      <td>False</td>\n",
       "      <td>False</td>\n",
       "      <td>False</td>\n",
       "    </tr>\n",
       "    <tr>\n",
       "      <th>1</th>\n",
       "      <td>False</td>\n",
       "      <td>False</td>\n",
       "      <td>False</td>\n",
       "      <td>False</td>\n",
       "      <td>False</td>\n",
       "      <td>False</td>\n",
       "      <td>False</td>\n",
       "      <td>False</td>\n",
       "      <td>False</td>\n",
       "      <td>False</td>\n",
       "      <td>False</td>\n",
       "    </tr>\n",
       "    <tr>\n",
       "      <th>2</th>\n",
       "      <td>False</td>\n",
       "      <td>False</td>\n",
       "      <td>False</td>\n",
       "      <td>False</td>\n",
       "      <td>False</td>\n",
       "      <td>False</td>\n",
       "      <td>False</td>\n",
       "      <td>False</td>\n",
       "      <td>False</td>\n",
       "      <td>False</td>\n",
       "      <td>False</td>\n",
       "    </tr>\n",
       "    <tr>\n",
       "      <th>3</th>\n",
       "      <td>False</td>\n",
       "      <td>False</td>\n",
       "      <td>False</td>\n",
       "      <td>False</td>\n",
       "      <td>False</td>\n",
       "      <td>False</td>\n",
       "      <td>False</td>\n",
       "      <td>False</td>\n",
       "      <td>False</td>\n",
       "      <td>False</td>\n",
       "      <td>False</td>\n",
       "    </tr>\n",
       "    <tr>\n",
       "      <th>4</th>\n",
       "      <td>False</td>\n",
       "      <td>False</td>\n",
       "      <td>False</td>\n",
       "      <td>False</td>\n",
       "      <td>False</td>\n",
       "      <td>False</td>\n",
       "      <td>False</td>\n",
       "      <td>False</td>\n",
       "      <td>False</td>\n",
       "      <td>False</td>\n",
       "      <td>False</td>\n",
       "    </tr>\n",
       "    <tr>\n",
       "      <th>...</th>\n",
       "      <td>...</td>\n",
       "      <td>...</td>\n",
       "      <td>...</td>\n",
       "      <td>...</td>\n",
       "      <td>...</td>\n",
       "      <td>...</td>\n",
       "      <td>...</td>\n",
       "      <td>...</td>\n",
       "      <td>...</td>\n",
       "      <td>...</td>\n",
       "      <td>...</td>\n",
       "    </tr>\n",
       "    <tr>\n",
       "      <th>3495</th>\n",
       "      <td>False</td>\n",
       "      <td>False</td>\n",
       "      <td>False</td>\n",
       "      <td>False</td>\n",
       "      <td>False</td>\n",
       "      <td>False</td>\n",
       "      <td>False</td>\n",
       "      <td>False</td>\n",
       "      <td>True</td>\n",
       "      <td>False</td>\n",
       "      <td>False</td>\n",
       "    </tr>\n",
       "    <tr>\n",
       "      <th>3496</th>\n",
       "      <td>False</td>\n",
       "      <td>False</td>\n",
       "      <td>False</td>\n",
       "      <td>False</td>\n",
       "      <td>False</td>\n",
       "      <td>False</td>\n",
       "      <td>False</td>\n",
       "      <td>False</td>\n",
       "      <td>True</td>\n",
       "      <td>False</td>\n",
       "      <td>False</td>\n",
       "    </tr>\n",
       "    <tr>\n",
       "      <th>3497</th>\n",
       "      <td>False</td>\n",
       "      <td>False</td>\n",
       "      <td>False</td>\n",
       "      <td>False</td>\n",
       "      <td>False</td>\n",
       "      <td>False</td>\n",
       "      <td>False</td>\n",
       "      <td>False</td>\n",
       "      <td>True</td>\n",
       "      <td>False</td>\n",
       "      <td>False</td>\n",
       "    </tr>\n",
       "    <tr>\n",
       "      <th>3498</th>\n",
       "      <td>False</td>\n",
       "      <td>False</td>\n",
       "      <td>False</td>\n",
       "      <td>False</td>\n",
       "      <td>False</td>\n",
       "      <td>False</td>\n",
       "      <td>False</td>\n",
       "      <td>True</td>\n",
       "      <td>True</td>\n",
       "      <td>False</td>\n",
       "      <td>False</td>\n",
       "    </tr>\n",
       "    <tr>\n",
       "      <th>3499</th>\n",
       "      <td>False</td>\n",
       "      <td>False</td>\n",
       "      <td>False</td>\n",
       "      <td>False</td>\n",
       "      <td>False</td>\n",
       "      <td>False</td>\n",
       "      <td>False</td>\n",
       "      <td>False</td>\n",
       "      <td>False</td>\n",
       "      <td>False</td>\n",
       "      <td>False</td>\n",
       "    </tr>\n",
       "  </tbody>\n",
       "</table>\n",
       "<p>3500 rows × 11 columns</p>\n",
       "</div>"
      ],
      "text/plain": [
       "      user_id  book_id  review_id  rating  review_text  date_added  \\\n",
       "0       False    False      False   False        False       False   \n",
       "1       False    False      False   False        False       False   \n",
       "2       False    False      False   False        False       False   \n",
       "3       False    False      False   False        False       False   \n",
       "4       False    False      False   False        False       False   \n",
       "...       ...      ...        ...     ...          ...         ...   \n",
       "3495    False    False      False   False        False       False   \n",
       "3496    False    False      False   False        False       False   \n",
       "3497    False    False      False   False        False       False   \n",
       "3498    False    False      False   False        False       False   \n",
       "3499    False    False      False   False        False       False   \n",
       "\n",
       "      date_updated  read_at  started_at  n_votes  n_comments  \n",
       "0            False    False       False    False       False  \n",
       "1            False    False       False    False       False  \n",
       "2            False    False       False    False       False  \n",
       "3            False    False       False    False       False  \n",
       "4            False    False       False    False       False  \n",
       "...            ...      ...         ...      ...         ...  \n",
       "3495         False    False        True    False       False  \n",
       "3496         False    False        True    False       False  \n",
       "3497         False    False        True    False       False  \n",
       "3498         False     True        True    False       False  \n",
       "3499         False    False       False    False       False  \n",
       "\n",
       "[3500 rows x 11 columns]"
      ]
     },
     "execution_count": 5,
     "metadata": {},
     "output_type": "execute_result"
    }
   ],
   "source": [
    "book_ratings.isna()"
   ]
  },
  {
   "cell_type": "code",
   "execution_count": 6,
   "id": "ed0d7b0e-ead8-42df-9ced-4d63c82235b9",
   "metadata": {},
   "outputs": [
    {
     "data": {
      "text/plain": [
       "user_id            0\n",
       "book_id            0\n",
       "review_id          0\n",
       "rating             0\n",
       "review_text        0\n",
       "date_added         0\n",
       "date_updated       0\n",
       "read_at          333\n",
       "started_at      1105\n",
       "n_votes            0\n",
       "n_comments         0\n",
       "dtype: int64"
      ]
     },
     "execution_count": 6,
     "metadata": {},
     "output_type": "execute_result"
    }
   ],
   "source": [
    "book_ratings.isnull().sum()"
   ]
  },
  {
   "cell_type": "code",
   "execution_count": 7,
   "id": "87137228-e7b7-4b31-aff5-cd1899894c61",
   "metadata": {},
   "outputs": [
    {
     "data": {
      "text/plain": [
       "user_id            0\n",
       "book_id            0\n",
       "review_id          0\n",
       "rating             0\n",
       "review_text        0\n",
       "date_added         0\n",
       "date_updated       0\n",
       "read_at          333\n",
       "started_at      1105\n",
       "n_votes            0\n",
       "n_comments         0\n",
       "dtype: int64"
      ]
     },
     "execution_count": 7,
     "metadata": {},
     "output_type": "execute_result"
    }
   ],
   "source": [
    "book_ratings.isna().sum()"
   ]
  },
  {
   "cell_type": "markdown",
   "id": "5a4ea4c5-54a4-4c21-a696-c5b3b9934ac3",
   "metadata": {},
   "source": [
    "**Spotlights**\n",
    "\n",
    "- The dataset comprises 3500 rows and 11 columns in total.\n",
    "- Among these columns, 7 are designated for object values, and 4 for integers.\n",
    "- There are missing values for **read_at : 333** and **started_at : 1105**"
   ]
  },
  {
   "cell_type": "markdown",
   "id": "3f34649f-4175-4adb-aca1-514ef8bca251",
   "metadata": {},
   "source": [
    "# Examine Summary Statistics"
   ]
  },
  {
   "cell_type": "code",
   "execution_count": 8,
   "id": "00497272-0f1f-4fce-972e-5a378828c19f",
   "metadata": {},
   "outputs": [
    {
     "data": {
      "text/html": [
       "<div>\n",
       "<style scoped>\n",
       "    .dataframe tbody tr th:only-of-type {\n",
       "        vertical-align: middle;\n",
       "    }\n",
       "\n",
       "    .dataframe tbody tr th {\n",
       "        vertical-align: top;\n",
       "    }\n",
       "\n",
       "    .dataframe thead th {\n",
       "        text-align: right;\n",
       "    }\n",
       "</style>\n",
       "<table border=\"1\" class=\"dataframe\">\n",
       "  <thead>\n",
       "    <tr style=\"text-align: right;\">\n",
       "      <th></th>\n",
       "      <th>book_id</th>\n",
       "      <th>rating</th>\n",
       "      <th>n_votes</th>\n",
       "      <th>n_comments</th>\n",
       "    </tr>\n",
       "  </thead>\n",
       "  <tbody>\n",
       "    <tr>\n",
       "      <th>count</th>\n",
       "      <td>3.500000e+03</td>\n",
       "      <td>3500.000000</td>\n",
       "      <td>3500.000000</td>\n",
       "      <td>3500.000000</td>\n",
       "    </tr>\n",
       "    <tr>\n",
       "      <th>mean</th>\n",
       "      <td>1.314011e+07</td>\n",
       "      <td>3.686000</td>\n",
       "      <td>3.038857</td>\n",
       "      <td>0.754286</td>\n",
       "    </tr>\n",
       "    <tr>\n",
       "      <th>std</th>\n",
       "      <td>9.143899e+06</td>\n",
       "      <td>1.251911</td>\n",
       "      <td>15.508018</td>\n",
       "      <td>3.474921</td>\n",
       "    </tr>\n",
       "    <tr>\n",
       "      <th>min</th>\n",
       "      <td>1.000000e+00</td>\n",
       "      <td>0.000000</td>\n",
       "      <td>0.000000</td>\n",
       "      <td>0.000000</td>\n",
       "    </tr>\n",
       "    <tr>\n",
       "      <th>25%</th>\n",
       "      <td>6.380978e+06</td>\n",
       "      <td>3.000000</td>\n",
       "      <td>0.000000</td>\n",
       "      <td>0.000000</td>\n",
       "    </tr>\n",
       "    <tr>\n",
       "      <th>50%</th>\n",
       "      <td>1.320679e+07</td>\n",
       "      <td>4.000000</td>\n",
       "      <td>0.000000</td>\n",
       "      <td>0.000000</td>\n",
       "    </tr>\n",
       "    <tr>\n",
       "      <th>75%</th>\n",
       "      <td>1.928702e+07</td>\n",
       "      <td>5.000000</td>\n",
       "      <td>1.000000</td>\n",
       "      <td>0.000000</td>\n",
       "    </tr>\n",
       "    <tr>\n",
       "      <th>max</th>\n",
       "      <td>3.589888e+07</td>\n",
       "      <td>5.000000</td>\n",
       "      <td>431.000000</td>\n",
       "      <td>77.000000</td>\n",
       "    </tr>\n",
       "  </tbody>\n",
       "</table>\n",
       "</div>"
      ],
      "text/plain": [
       "            book_id       rating      n_votes   n_comments\n",
       "count  3.500000e+03  3500.000000  3500.000000  3500.000000\n",
       "mean   1.314011e+07     3.686000     3.038857     0.754286\n",
       "std    9.143899e+06     1.251911    15.508018     3.474921\n",
       "min    1.000000e+00     0.000000     0.000000     0.000000\n",
       "25%    6.380978e+06     3.000000     0.000000     0.000000\n",
       "50%    1.320679e+07     4.000000     0.000000     0.000000\n",
       "75%    1.928702e+07     5.000000     1.000000     0.000000\n",
       "max    3.589888e+07     5.000000   431.000000    77.000000"
      ]
     },
     "execution_count": 8,
     "metadata": {},
     "output_type": "execute_result"
    }
   ],
   "source": [
    "book_ratings.describe()"
   ]
  },
  {
   "cell_type": "markdown",
   "id": "cc982d90-e621-4e5d-ae85-e1942f541dff",
   "metadata": {},
   "source": [
    "**Verify that each observations is independent**"
   ]
  },
  {
   "cell_type": "code",
   "execution_count": 9,
   "id": "9b256be5-4ab4-4847-a66f-8d1be69245cf",
   "metadata": {},
   "outputs": [
    {
     "name": "stdout",
     "output_type": "stream",
     "text": [
      "All USERID observations independent? False\n",
      "\n",
      "All BOOKSID observations independent? False\n",
      "\n",
      "All REVIEWID observations independent? True\n",
      "\n"
     ]
    }
   ],
   "source": [
    "# user_id\tbook_id\treview_id\n",
    "userids = book_ratings.user_id.nunique()\n",
    "usersidcounts = book_ratings.user_id.count()\n",
    "bookids = book_ratings.book_id.nunique()\n",
    "booksidcounts = book_ratings.book_id.count()\n",
    "reviewids = book_ratings.review_id.nunique()\n",
    "reviewsidcounts = book_ratings.review_id.count()\n",
    "\n",
    "# uniqueids = df.id.nunique()\n",
    "# idcounts = df.id.count()\n",
    "# print(f\"All observations independent? {uniqueids == idcounts}\\n\")\n",
    "\n",
    "print(f\"All USERID observations independent? {userids == usersidcounts}\\n\")\n",
    "print(f\"All BOOKSID observations independent? {bookids == booksidcounts}\\n\")\n",
    "print(f\"All REVIEWID observations independent? {reviewids == reviewsidcounts}\\n\")"
   ]
  },
  {
   "cell_type": "markdown",
   "id": "1de05436-6547-48ab-985f-c826df60223a",
   "metadata": {},
   "source": [
    "**Spotlights**\n",
    "\n",
    "- The values for user_id and book_id are not entirely unique, which is understandable since a single user can read multiple books, and a single book can be read by various users.\n",
    "- The review_id entries are unique, with no duplicates present. This is logical because each user can only submit one review for a particular book.\n",
    "- Overall, the data structure reflects typical reading and reviewing behaviors, highlighting the relationships between users and books effectively."
   ]
  },
  {
   "cell_type": "markdown",
   "id": "b2f1974e-8780-4fb1-ad48-ea05761d63f8",
   "metadata": {},
   "source": [
    "# Examine Ratings Distributions"
   ]
  },
  {
   "cell_type": "code",
   "execution_count": 10,
   "id": "6a1c403e-f5e2-4713-9337-8d61ee9b84bf",
   "metadata": {},
   "outputs": [
    {
     "data": {
      "text/plain": [
       "<Axes: title={'center': 'Count Ratings Distrbutions'}, ylabel='rating'>"
      ]
     },
     "execution_count": 10,
     "metadata": {},
     "output_type": "execute_result"
    },
    {
     "data": {
      "image/png": "[encoded data removed]",
      "text/plain": [
       "<Figure size 640x480 with 1 Axes>"
      ]
     },
     "metadata": {},
     "output_type": "display_data"
    }
   ],
   "source": [
    "book_ratings.rating.value_counts(ascending=True).plot(\n",
    "    kind=\"barh\",\n",
    "    title=\"Count Ratings Distrbutions\",\n",
    "    grid=False,\n",
    "    legend=True,\n",
    "    cmap=\"viridis\",\n",
    ")"
   ]
  },
  {
   "cell_type": "markdown",
   "id": "64a51941-c28e-4644-ac2a-bfd4429d02ca",
   "metadata": {},
   "source": [
    "**Spotlights** \n",
    "\n",
    "Rating Counts: \n",
    "- Rating 4: 1278\n",
    "- Rating 5: 1001\n",
    "- Rating 3: 707\n",
    "- Rating 2: 269\n",
    "- Rating 1: 125\n",
    "- Rating 0: 120\n",
    "\n",
    "Unfortunately, some data with ratings of 0 has been encountered , which is a bit of a hiccup since the website's ratings are meant to range from 1 to 5. To ensure everything aligns properly, any ratings that fall outside of this specified range will be removed."
   ]
  },
  {
   "cell_type": "markdown",
   "id": "7a6b52bb-4a60-4ef8-8806-374854f4c58c",
   "metadata": {},
   "source": [
    "# Filter Ratings "
   ]
  },
  {
   "cell_type": "code",
   "execution_count": 11,
   "id": "432b38c3-8a58-4500-afc2-2b9f51e6e979",
   "metadata": {},
   "outputs": [],
   "source": [
    "book_ratings = book_ratings[book_ratings[\"rating\"] != 0]"
   ]
  },
  {
   "cell_type": "markdown",
   "id": "b4f44a80-984d-454d-b262-c8d71b8b8352",
   "metadata": {},
   "source": [
    "## Prepare Dataset for use in Surprise"
   ]
  },
  {
   "cell_type": "code",
   "execution_count": 12,
   "id": "12d68850-a716-4581-a2d0-e95bacd14641",
   "metadata": {},
   "outputs": [],
   "source": [
    "reader = Reader(rating_scale=(1, 5))"
   ]
  },
  {
   "cell_type": "markdown",
   "id": "2e55c726-f0bb-4370-a628-a6171a7e1e67",
   "metadata": {},
   "source": [
    "# Build a recommender using `Surprise`\n",
    "\n",
    "The following step involves importing book_ratings into a Surprise Dataset, enabling its compatibility with the algorithms provided by Surprise."
   ]
  },
  {
   "cell_type": "markdown",
   "id": "b3930d62-52b2-4e27-ab19-4d14243d7be2",
   "metadata": {},
   "source": [
    "### Load 'book_ratings' into a Surprise Dataset"
   ]
  },
  {
   "cell_type": "code",
   "execution_count": 13,
   "id": "896baa33-c291-4158-9118-83ceda2925e4",
   "metadata": {},
   "outputs": [],
   "source": [
    "rec_data = Dataset.load_from_df(book_ratings[[\"user_id\", \"book_id\", \"rating\"]], reader)"
   ]
  }
 ],
 "metadata": {
  "kernelspec": {
   "display_name": "Python 3 (ipykernel)",
   "language": "python",
   "name": "python3"
  },
  "language_info": {
   "codemirror_mode": {
    "name": "ipython",
    "version": 3
   },
   "file_extension": ".py",
   "mimetype": "text/x-python",
   "name": "python",
   "nbconvert_exporter": "python",
   "pygments_lexer": "ipython3",
   "version": "3.8.18"
  }
 },
 "nbformat": 4,
 "nbformat_minor": 5
}
